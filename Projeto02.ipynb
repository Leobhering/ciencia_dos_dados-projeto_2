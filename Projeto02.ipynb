{
 "cells": [
  {
   "cell_type": "markdown",
   "metadata": {},
   "source": [
    "# Projeto 2 - Classificador Automático de Sentimento\n",
    "\n",
    "Você foi contratado por uma empresa parar analisar como os clientes estão reagindo a um determinado produto no Twitter. A empresa deseja que você crie um programa que irá analisar as mensagens disponíveis e classificará como \"relevante\" ou \"irrelevante\". Com isso ela deseja que mensagens negativas, que denigrem o nome do produto, ou que mereçam destaque, disparem um foco de atenção da área de marketing.<br /><br />\n",
    "Como aluno de Ciência dos Dados, você lembrou do Teorema de Bayes, mais especificamente do Classificador Naive-Bayes, que é largamente utilizado em filtros anti-spam de e-mails. O classificador permite calcular qual a probabilidade de uma mensagem ser relevante dadas as palavras em seu conteúdo.<br /><br />\n",
    "Para realizar o MVP (*minimum viable product*) do projeto, você precisa implementar uma versão do classificador que \"aprende\" o que é relevante com uma base de treinamento e compara a performance dos resultados com uma base de testes.<br /><br />\n",
    "Após validado, o seu protótipo poderá também capturar e classificar automaticamente as mensagens da plataforma.\n",
    "\n",
    "## Informações do Projeto\n",
    "\n",
    "Prazo: 13/Set até às 23:59.<br />\n",
    "Grupo: 1 ou 2 pessoas.<br /><br />\n",
    "Entregáveis via GitHub: \n",
    "* Arquivo notebook com o código do classificador, seguindo as orientações abaixo.\n",
    "* Arquivo Excel com as bases de treinamento e teste totalmente classificado.\n",
    "\n",
    "**NÃO disponibilizar o arquivo com os *access keys/tokens* do Twitter.**\n",
    "\n",
    "\n",
    "### Check 3: \n",
    "\n",
    "Até o dia 06 de Setembro às 23:59, o notebook e o xlsx devem estar no Github com as seguintes evidências: \n",
    "    * Conta no twitter criada.\n",
    "    * Produto escolhido.\n",
    "    * Arquivo Excel contendo a base de treinamento e teste já classificado.\n",
    "\n",
    "Sugestão de leitura:<br />\n",
    "http://docs.tweepy.org/en/v3.5.0/index.html<br />\n",
    "https://monkeylearn.com/blog/practical-explanation-naive-bayes-classifier/"
   ]
  },
  {
   "cell_type": "markdown",
   "metadata": {},
   "source": [
    "___\n",
    "\n",
    "## Preparando o ambiente\n",
    "\n",
    "Instalando a biblioteca *tweepy* para realizar a conexão com o Twitter:"
   ]
  },
  {
   "cell_type": "code",
   "execution_count": 1,
   "metadata": {
    "collapsed": true
   },
   "outputs": [],
   "source": [
    "%%capture\n",
    "\n",
    "#Instalando o tweepy\n",
    "!pip install tweepy"
   ]
  },
  {
   "cell_type": "markdown",
   "metadata": {},
   "source": [
    "Importando as Bibliotecas que serão utilizadas. Esteja livre para adicionar outras."
   ]
  },
  {
   "cell_type": "code",
   "execution_count": 2,
   "metadata": {
    "collapsed": true
   },
   "outputs": [],
   "source": [
    "import tweepy\n",
    "import math\n",
    "import os.path\n",
    "import pandas as pd\n",
    "import json\n",
    "from random import shuffle\n",
    "from operator import mul\n",
    "from functools import reduce"
   ]
  },
  {
   "cell_type": "markdown",
   "metadata": {},
   "source": [
    "___\n",
    "## Autenticando no  Twitter\n",
    "\n",
    "Para realizar a captura dos dados é necessário ter uma conta cadastrada no twitter:\n",
    "\n",
    "* Conta: ***[Preencha aqui o id da sua conta. Ex: @fulano ]***\n",
    "\n",
    "\n",
    "1. Caso ainda não tenha uma: https://twitter.com/signup\n",
    "1. Depois é necessário registrar um app para usar a biblioteca: https://apps.twitter.com/\n",
    "1. Dentro do registro do App, na aba Keys and Access Tokens, anotar os seguintes campos:\n",
    "    1. Consumer Key (API Key)\n",
    "    1. Consumer Secret (API Secret)\n",
    "1. Mais abaixo, gere um Token e anote também:\n",
    "    1. Access Token\n",
    "    1. Access Token Secret\n",
    "    \n",
    "1. Preencha os valores no arquivo \"auth.pass\"\n",
    "\n",
    "**ATENÇÃO**: Nunca divulgue os dados desse arquivo online (GitHub, etc). Ele contém as chaves necessárias para realizar as operações no twitter de forma automática e portanto é equivalente a ser \"hackeado\". De posse desses dados, pessoas mal intencionadas podem fazer todas as operações manuais (tweetar, seguir, bloquear/desbloquear, listar os seguidores, etc). Para efeito do projeto, esse arquivo não precisa ser entregue!!!"
   ]
  },
  {
   "cell_type": "code",
   "execution_count": 3,
   "metadata": {
    "collapsed": true
   },
   "outputs": [],
   "source": [
    "#Dados de autenticação do twitter:\n",
    "\n",
    "#Coloque aqui o identificador da conta no twitter: @fulano\n",
    "\n",
    "#leitura do arquivo no formato JSON\n",
    "with open('auth.pass') as fp:    \n",
    "    data = json.load(fp)\n",
    "\n",
    "#Configurando a biblioteca. Não modificar\n",
    "auth = tweepy.OAuthHandler(data['consumer_key'], data['consumer_secret'])\n",
    "auth.set_access_token(data['access_token'], data['access_token_secret'])"
   ]
  },
  {
   "cell_type": "markdown",
   "metadata": {},
   "source": [
    "___\n",
    "## Coletando Dados\n",
    "\n",
    "Agora vamos coletar os dados. Tenha em mente que dependendo do produto escolhido, não haverá uma quantidade significativa de mensagens, ou ainda poder haver muitos retweets.<br /><br /> \n",
    "Configurando:"
   ]
  },
  {
   "cell_type": "code",
   "execution_count": 4,
   "metadata": {
    "collapsed": true
   },
   "outputs": [],
   "source": [
    "#Produto escolhido:\n",
    "produto = 'renner'\n",
    "\n",
    "#Quantidade mínima de mensagens capturadas:\n",
    "n = 500\n",
    "#Quantidade mínima de mensagens para a base de treinamento:\n",
    "t = 300\n",
    "\n",
    "#Filtro de língua, escolha uma na tabela ISO 639-1.\n",
    "lang = 'pt'"
   ]
  },
  {
   "cell_type": "markdown",
   "metadata": {},
   "source": [
    "Capturando os dados do twitter:"
   ]
  },
  {
   "cell_type": "code",
   "execution_count": 5,
   "metadata": {},
   "outputs": [],
   "source": [
    "#Cria um objeto para a captura\n",
    "api = tweepy.API(auth)\n",
    "\n",
    "#Inicia a captura, para mais detalhes: ver a documentação do tweepy\n",
    "i = 1\n",
    "msgs = []\n",
    "for msg in tweepy.Cursor(api.search, q=produto, lang=lang).items():    \n",
    "    msgs.append(msg.text.lower())\n",
    "    i += 1\n",
    "    if i > n:\n",
    "        break\n",
    "\n",
    "#Embaralhando as mensagens para reduzir um possível viés\n",
    "shuffle(msgs)"
   ]
  },
  {
   "cell_type": "markdown",
   "metadata": {},
   "source": [
    "Salvando os dados em uma planilha Excel:"
   ]
  },
  {
   "cell_type": "code",
   "execution_count": 6,
   "metadata": {
    "collapsed": true
   },
   "outputs": [],
   "source": [
    "#Verifica se o arquivo não existe para não substituir um conjunto pronto\n",
    "if not os.path.isfile('./{0}.xlsx'.format(produto)):\n",
    "    \n",
    "    #Abre o arquivo para escrita\n",
    "    writer = pd.ExcelWriter('{0}.xlsx'.format(produto))\n",
    "\n",
    "    #divide o conjunto de mensagens em duas planilhas\n",
    "    dft = pd.DataFrame({'Treinamento' : pd.Series(msgs[:t])})\n",
    "    dft.to_excel(excel_writer = writer, sheet_name = 'Treinamento', index = False)\n",
    "\n",
    "    dfc = pd.DataFrame({'Teste' : pd.Series(msgs[t:])})\n",
    "    dfc.to_excel(excel_writer = writer, sheet_name = 'Teste', index = False)\n",
    "\n",
    "    #fecha o arquivo\n",
    "    writer.save()"
   ]
  },
  {
   "cell_type": "markdown",
   "metadata": {},
   "source": [
    "___\n",
    "## Classificando as Mensagens\n",
    "\n",
    "Agora você deve abrir o arquivo Excel com as mensagens capturadas e classificar na Coluna B se a mensagem é relevante ou não.<br /> \n",
    "Não se esqueça de colocar um nome para a coluna na célula **B1**.<br /><br />\n",
    "Fazer o mesmo na planilha de Controle.\n",
    "\n",
    "___\n",
    "## Montando o Classificador Naive-Bayes\n",
    "\n",
    "Com a base de treinamento montada, comece a desenvolver o classificador. Escreva o seu código abaixo:\n",
    "\n",
    "Opcionalmente: \n",
    "* Limpar as mensagens removendo os caracteres: enter, :, \", ', (, ), etc. Não remover emojis.<br />\n",
    "* Corrigir separação de espaços entre palavras e/ou emojis.\n",
    "* Propor outras limpezas/transformações que não afetem a qualidade da informação.\n",
    "\n"
   ]
  },
  {
   "cell_type": "code",
   "execution_count": 7,
   "metadata": {},
   "outputs": [
    {
     "data": {
      "text/html": [
       "<div>\n",
       "<table border=\"1\" class=\"dataframe\">\n",
       "  <thead>\n",
       "    <tr style=\"text-align: right;\">\n",
       "      <th></th>\n",
       "      <th>Treinamento</th>\n",
       "      <th>B1</th>\n",
       "    </tr>\n",
       "  </thead>\n",
       "  <tbody>\n",
       "    <tr>\n",
       "      <th>0</th>\n",
       "      <td>tô procurando uma blusa rosa bebê encontro na ...</td>\n",
       "      <td>2</td>\n",
       "    </tr>\n",
       "    <tr>\n",
       "      <th>1</th>\n",
       "      <td>rt joanarborsa a pessoa elogia minha roupa e e...</td>\n",
       "      <td>1</td>\n",
       "    </tr>\n",
       "    <tr>\n",
       "      <th>2</th>\n",
       "      <td>menor aprendiz ipatinga 2017 renner vagas aten...</td>\n",
       "      <td>2</td>\n",
       "    </tr>\n",
       "    <tr>\n",
       "      <th>3</th>\n",
       "      <td>halfwayana deuradox eu vi na renner la em curi...</td>\n",
       "      <td>2</td>\n",
       "    </tr>\n",
       "    <tr>\n",
       "      <th>4</th>\n",
       "      <td>pedrlds vou comprar minhas brusinha da renner ...</td>\n",
       "      <td>1</td>\n",
       "    </tr>\n",
       "    <tr>\n",
       "      <th>5</th>\n",
       "      <td>rt joanarborsa a pessoa elogia minha roupa e e...</td>\n",
       "      <td>1</td>\n",
       "    </tr>\n",
       "    <tr>\n",
       "      <th>6</th>\n",
       "      <td>vi meu compadre na renner hj que comédia ele 💜</td>\n",
       "      <td>2</td>\n",
       "    </tr>\n",
       "    <tr>\n",
       "      <th>7</th>\n",
       "      <td>doidoaltos viados nessa renner</td>\n",
       "      <td>2</td>\n",
       "    </tr>\n",
       "    <tr>\n",
       "      <th>8</th>\n",
       "      <td>i liked a youtube video https//t.co/rnkhebwhg5...</td>\n",
       "      <td>2</td>\n",
       "    </tr>\n",
       "    <tr>\n",
       "      <th>9</th>\n",
       "      <td>rt legalizandra vc paga o vestido em 3 prestaç...</td>\n",
       "      <td>1</td>\n",
       "    </tr>\n",
       "  </tbody>\n",
       "</table>\n",
       "</div>"
      ],
      "text/plain": [
       "                                         Treinamento  B1\n",
       "0  tô procurando uma blusa rosa bebê encontro na ...   2\n",
       "1  rt joanarborsa a pessoa elogia minha roupa e e...   1\n",
       "2  menor aprendiz ipatinga 2017 renner vagas aten...   2\n",
       "3  halfwayana deuradox eu vi na renner la em curi...   2\n",
       "4  pedrlds vou comprar minhas brusinha da renner ...   1\n",
       "5  rt joanarborsa a pessoa elogia minha roupa e e...   1\n",
       "6     vi meu compadre na renner hj que comédia ele 💜   2\n",
       "7                     doidoaltos viados nessa renner   2\n",
       "8  i liked a youtube video https//t.co/rnkhebwhg5...   2\n",
       "9  rt legalizandra vc paga o vestido em 3 prestaç...   1"
      ]
     },
     "execution_count": 7,
     "metadata": {},
     "output_type": "execute_result"
    }
   ],
   "source": [
    "excel=pd.ExcelFile(\"renner.xlsx\")\n",
    "excel.sheet_names\n",
    "[u'Treinamento', u'Teste']\n",
    "df = excel.parse(\"Treinamento\")\n",
    "\n",
    "df=df.replace({'@':''}, regex=True)\n",
    "df=df.replace({'()':''}, regex=True)\n",
    "df=df.replace({':':''}, regex=True)\n",
    "df=df.replace({'#':''}, regex=True)\n",
    "df=df.replace({';':''}, regex=True)\n",
    "df=df.replace({'':''}, regex=True)\n",
    "df=df.replace({',':''}, regex=True)\n",
    "df=df.replace({'\"':''}, regex=True)\n",
    "df=df.replace({'  ':''}, regex=True)\n",
    "df.head(10)\n",
    "\n"
   ]
  },
  {
   "cell_type": "code",
   "execution_count": 8,
   "metadata": {},
   "outputs": [
    {
     "name": "stdout",
     "output_type": "stream",
     "text": [
      "2319\n",
      "1948\n",
      "4267\n"
     ]
    }
   ],
   "source": [
    "relevante=[]\n",
    "irrelevante=[]\n",
    "total=[]\n",
    "contandoRelevante={}\n",
    "contandoIrrelevante={}\n",
    "probPalavraRelevante={}\n",
    "probPalavraIrrelevante={}\n",
    "\n",
    "for i in range(len(df)):\n",
    "    if df[\"B1\"][i]==1:\n",
    "        relevante+=(list(set(df['Treinamento'][i].split())))\n",
    "        total+=(list(set(df['Treinamento'][i].split())))\n",
    "    else:\n",
    "        irrelevante+=(list(set(df['Treinamento'][i].split())))\n",
    "        total+=(list(set(df['Treinamento'][i].split())))\n",
    "        \n",
    "nrelevante=len(relevante)\n",
    "nirrelevante=len(irrelevante)\n",
    "ntotal=len(total)\n",
    "\n",
    "for i in relevante:\n",
    "    total=relevante.count(i)\n",
    "    contandoRelevante[i] = total\n",
    "\n",
    "for i in irrelevante:\n",
    "    total=irrelevante.count(i)\n",
    "    contandoIrrelevante[i] = total\n",
    "\n",
    "print(nirrelevante)\n",
    "print(nrelevante)\n",
    "print(ntotal)"
   ]
  },
  {
   "cell_type": "code",
   "execution_count": 9,
   "metadata": {},
   "outputs": [
    {
     "name": "stdout",
     "output_type": "stream",
     "text": [
      "1422\n",
      "550\n",
      "1111\n"
     ]
    }
   ],
   "source": [
    "geral=[]\n",
    "geral.extend(relevante)\n",
    "geral.extend(irrelevante)\n",
    "\n",
    "#Geral\n",
    "geral_semRepeticao = set(geral)\n",
    "numeroGeral_semRepeticao = len(geral_semRepeticao)\n",
    "\n",
    "#Relevante\n",
    "numeroRelevante_comRepeticao = len(relevante)\n",
    "uRelevante_semRepeticao = set(relevante)\n",
    "numeroRelevante_semRepeticao = len(uRelevante_semRepeticao)\n",
    "\n",
    "#Irrelevante\n",
    "numeroIrrelevante_comRepeticao = len(irrelevante)\n",
    "uIrrelevante_semRepeticao = set(irrelevante)\n",
    "numeroIrrelevante_semRepeticao = len(uIrrelevante_semRepeticao)\n",
    "\n",
    "print(numeroGeral_semRepeticao)\n",
    "print(numeroRelevante_semRepeticao)\n",
    "print(numeroIrrelevante_semRepeticao)"
   ]
  },
  {
   "cell_type": "code",
   "execution_count": 10,
   "metadata": {
    "collapsed": true
   },
   "outputs": [],
   "source": [
    "for i in uRelevante_semRepeticao:\n",
    "    probPalavraRelevante[i] = (contandoRelevante[i] + 1) / (numeroRelevante_comRepeticao + numeroGeral_semRepeticao)\n",
    "\n",
    "for i in uIrrelevante_semRepeticao:\n",
    "    probPalavraIrrelevante[i] = (contandoIrrelevante[i] + 1) / (numeroIrrelevante_comRepeticao + numeroGeral_semRepeticao)\n",
    "\n"
   ]
  },
  {
   "cell_type": "code",
   "execution_count": 11,
   "metadata": {},
   "outputs": [
    {
     "data": {
      "text/html": [
       "<div>\n",
       "<table border=\"1\" class=\"dataframe\">\n",
       "  <thead>\n",
       "    <tr style=\"text-align: right;\">\n",
       "      <th></th>\n",
       "      <th>Teste</th>\n",
       "      <th>B1</th>\n",
       "    </tr>\n",
       "  </thead>\n",
       "  <tbody>\n",
       "    <tr>\n",
       "      <th>0</th>\n",
       "      <td>mrsmckitchen liquidaçao renner</td>\n",
       "      <td>2</td>\n",
       "    </tr>\n",
       "    <tr>\n",
       "      <th>1</th>\n",
       "      <td>mário renner poluindo a minha tv que nojo fera...</td>\n",
       "      <td>2</td>\n",
       "    </tr>\n",
       "    <tr>\n",
       "      <th>2</th>\n",
       "      <td>vi uns tao lindos aqui na renner \\nto querendo...</td>\n",
       "      <td>1</td>\n",
       "    </tr>\n",
       "    <tr>\n",
       "      <th>3</th>\n",
       "      <td>eu e a bia fomos na renner pra comprar minha c...</td>\n",
       "      <td>2</td>\n",
       "    </tr>\n",
       "    <tr>\n",
       "      <th>4</th>\n",
       "      <td>rt cecifangirling eu aceito uma brusinha da re...</td>\n",
       "      <td>1</td>\n",
       "    </tr>\n",
       "    <tr>\n",
       "      <th>5</th>\n",
       "      <td>meu irmão ta cantando rick e renner no banho</td>\n",
       "      <td>2</td>\n",
       "    </tr>\n",
       "    <tr>\n",
       "      <th>6</th>\n",
       "      <td>rt matheusanjos102 bgl é fazer cartão renner e...</td>\n",
       "      <td>1</td>\n",
       "    </tr>\n",
       "    <tr>\n",
       "      <th>7</th>\n",
       "      <td>rt legalizandra vc paga o vestido em 3 prestaç...</td>\n",
       "      <td>1</td>\n",
       "    </tr>\n",
       "    <tr>\n",
       "      <th>8</th>\n",
       "      <td>minhada renner não vai trabalhar sexta com que...</td>\n",
       "      <td>2</td>\n",
       "    </tr>\n",
       "    <tr>\n",
       "      <th>9</th>\n",
       "      <td>aquela que o rick e renner regravou</td>\n",
       "      <td>2</td>\n",
       "    </tr>\n",
       "  </tbody>\n",
       "</table>\n",
       "</div>"
      ],
      "text/plain": [
       "                                               Teste  B1\n",
       "0                     mrsmckitchen liquidaçao renner   2\n",
       "1  mário renner poluindo a minha tv que nojo fera...   2\n",
       "2  vi uns tao lindos aqui na renner \\nto querendo...   1\n",
       "3  eu e a bia fomos na renner pra comprar minha c...   2\n",
       "4  rt cecifangirling eu aceito uma brusinha da re...   1\n",
       "5       meu irmão ta cantando rick e renner no banho   2\n",
       "6  rt matheusanjos102 bgl é fazer cartão renner e...   1\n",
       "7  rt legalizandra vc paga o vestido em 3 prestaç...   1\n",
       "8  minhada renner não vai trabalhar sexta com que...   2\n",
       "9                aquela que o rick e renner regravou   2"
      ]
     },
     "execution_count": 11,
     "metadata": {},
     "output_type": "execute_result"
    }
   ],
   "source": [
    "dt = excel.parse(\"Teste\")\n",
    "\n",
    "dt=dt.replace({'@':''}, regex=True)\n",
    "dt=dt.replace({'()':''}, regex=True)\n",
    "dt=dt.replace({':':''}, regex=True)\n",
    "dt=dt.replace({'#':''}, regex=True)\n",
    "dt=dt.replace({';':''}, regex=True)\n",
    "dt=dt.replace({'':''}, regex=True)\n",
    "dt=dt.replace({',':''}, regex=True)\n",
    "dt=dt.replace({'\"':''}, regex=True)\n",
    "dt=dt.replace({'  ':''}, regex=True)\n",
    "dt.head(10)"
   ]
  },
  {
   "cell_type": "code",
   "execution_count": 12,
   "metadata": {
    "collapsed": true
   },
   "outputs": [],
   "source": [
    "lteste=[]\n",
    "prob_tweet = []\n",
    "lprob_tweetrelevante = []\n",
    "lprob_tweetirrelevante = []\n",
    "relevantes_final = []\n",
    "\n",
    "for i in dt.Teste:\n",
    "    split_teste= i.split()\n",
    "    lteste.append(split_teste)\n",
    "\n",
    "\n",
    "for tweet in lteste:\n",
    "    for palavra in tweet:\n",
    "        if palavra in uRelevante_semRepeticao:\n",
    "            prob_tweet.append(probPalavraRelevante[palavra])\n",
    "        else:\n",
    "            valor = 1 / (numeroRelevante_semRepeticao + numeroGeral_semRepeticao)\n",
    "            prob_tweet.append(valor)\n",
    "    lprob_tweetrelevante.append(reduce(mul,prob_tweet))\n",
    "    del prob_tweet [:]\n",
    "\n",
    "for tweet in lteste:\n",
    "    for palavra in tweet:\n",
    "        if palavra in uIrrelevante_semRepeticao:\n",
    "            prob_tweet.append(probPalavraIrrelevante[palavra])\n",
    "        else:\n",
    "            valor = 1 / (numeroIrrelevante_semRepeticao + numeroGeral_semRepeticao)\n",
    "            prob_tweet.append(valor)\n",
    "    lprob_tweetirrelevante.append(reduce(mul,prob_tweet))\n",
    "    del prob_tweet [:]\n",
    "    \n",
    "for i in range(len(lteste)):\n",
    "    if lprob_tweetrelevante[i] > lprob_tweetirrelevante[i]:\n",
    "        relevantes_final.append('Sim')\n",
    "    if lprob_tweetrelevante[i] < lprob_tweetirrelevante[i]:\n",
    "        relevantes_final.append('Não')\n",
    "    if lprob_tweetrelevante[i] == lprob_tweetirrelevante[i]:\n",
    "        relevantes_final.append('Neutro')"
   ]
  },
  {
   "cell_type": "code",
   "execution_count": 24,
   "metadata": {},
   "outputs": [
    {
     "name": "stdout",
     "output_type": "stream",
     "text": [
      "['Sim', 'Sim', 'Sim', 'Sim', 'Sim', 'Não', 'Sim', 'Sim', 'Sim', 'Não', 'Sim', 'Sim', 'Sim', 'Sim', 'Sim', 'Sim', 'Sim', 'Sim', 'Sim', 'Sim', 'Sim', 'Sim', 'Sim', 'Sim', 'Não', 'Sim', 'Sim', 'Sim', 'Sim', 'Sim', 'Sim', 'Sim', 'Sim', 'Não', 'Sim', 'Sim', 'Sim', 'Sim', 'Sim', 'Sim', 'Não', 'Sim', 'Sim', 'Sim', 'Sim', 'Não', 'Sim', 'Sim', 'Sim', 'Sim', 'Sim', 'Sim', 'Não', 'Sim', 'Sim', 'Sim', 'Sim', 'Sim', 'Não', 'Sim', 'Não', 'Sim', 'Sim', 'Sim', 'Sim', 'Sim', 'Sim', 'Não', 'Sim', 'Sim', 'Sim', 'Não', 'Sim', 'Sim', 'Sim', 'Sim', 'Não', 'Não', 'Sim', 'Sim', 'Sim', 'Sim', 'Não', 'Sim', 'Sim', 'Sim', 'Sim', 'Sim', 'Sim', 'Sim', 'Não', 'Sim', 'Sim', 'Sim', 'Não', 'Não', 'Sim', 'Sim', 'Sim', 'Sim', 'Sim', 'Sim', 'Sim', 'Sim', 'Sim', 'Sim', 'Sim', 'Sim', 'Não', 'Sim', 'Não', 'Não', 'Sim', 'Sim', 'Sim', 'Sim', 'Sim', 'Sim', 'Sim', 'Sim', 'Não', 'Sim', 'Sim', 'Sim', 'Sim', 'Sim', 'Sim', 'Sim', 'Sim', 'Não', 'Sim', 'Sim', 'Sim', 'Sim', 'Não', 'Sim', 'Sim', 'Sim', 'Sim', 'Não', 'Sim', 'Sim', 'Não', 'Sim', 'Sim', 'Sim', 'Sim', 'Sim', 'Sim', 'Não', 'Sim', 'Sim', 'Não', 'Sim', 'Sim', 'Não', 'Sim', 'Sim', 'Sim', 'Sim', 'Sim', 'Não', 'Sim', 'Sim', 'Sim', 'Sim', 'Sim', 'Sim', 'Não', 'Sim', 'Sim', 'Sim', 'Sim', 'Sim', 'Sim', 'Sim', 'Sim', 'Não', 'Sim', 'Sim', 'Sim', 'Não', 'Sim', 'Sim', 'Sim', 'Sim', 'Não', 'Sim', 'Não', 'Sim', 'Sim', 'Sim', 'Não', 'Sim', 'Sim', 'Não', 'Sim', 'Sim', 'Sim', 'Sim']\n"
     ]
    }
   ],
   "source": [
    "dt[\"Resultados\"]=pd.Series(relevantes_final)\n",
    "print(relevantes_final)"
   ]
  },
  {
   "cell_type": "markdown",
   "metadata": {},
   "source": [
    "___\n",
    "## Verificando a performance\n",
    "\n",
    "Agora você deve testar o seu Classificador com a base de Testes.<br /><br /> \n",
    "\n",
    "Você deve extrair as seguintes medidas:\n",
    "* Porcentagem de positivos falsos (marcados como relevante mas não são relevantes)\n",
    "* Porcentagem de positivos verdadeiros (marcado como relevante e são relevantes)\n",
    "* Porcentagem de negativos verdadeiros (marcado como não relevante e não são relevantes)\n",
    "* Porcentagem de negativos falsos (marcado como não relevante e são relevantes)\n",
    "\n",
    "Opcionalmente:\n",
    "* Criar categorias intermediárias de relevância baseado na diferença de probabilidades. Exemplo: muito relevante, relevante, neutro, irrelevante e muito irrelevante."
   ]
  },
  {
   "cell_type": "code",
   "execution_count": 36,
   "metadata": {
    "scrolled": true
   },
   "outputs": [],
   "source": [
    "listaResultados = []\n",
    "for i in range(len(relevantes_final)):\n",
    "    if dt.Resultados[i] == \"Sim\"  and dt.B1[i] == 1:\n",
    "        listaResultados.append(\"Positivos verdadeiros\")\n",
    "    if dt.Resultados[i] == \"Não\"  and dt.B1[i] == 1:\n",
    "        listaResultados.append(\"Negativos falsos\")\n",
    "    if dt.Resultados[i] == \"Sim\"  and dt.B1[i] == 2:\n",
    "        listaResultados.append(\"Positivos falsos\")\n",
    "    if dt.Resultados[i] == \"Não\"  and dt.B1[i] == 2:\n",
    "        listaResultados.append(\"Negativos verdadeiros\")\n",
    "        \n",
    "dt[\"Final\"] = pd.Series(listaResultados)"
   ]
  },
  {
   "cell_type": "code",
   "execution_count": 38,
   "metadata": {},
   "outputs": [
    {
     "data": {
      "text/plain": [
       "Positivos verdadeiros    37.0\n",
       "Negativos falsos          1.5\n",
       "Positivos falsos         45.0\n",
       "Negativos verdadeiros    16.5\n",
       "Name: Final, dtype: float64"
      ]
     },
     "execution_count": 38,
     "metadata": {},
     "output_type": "execute_result"
    }
   ],
   "source": [
    "#Porcentagem de Negativos, Positivos, Falsos Postivos e Falsos Negativos\n",
    "(dt.Final.value_counts(normalize=True)*100).round(decimals=1).reindex(['Positivos verdadeiros', 'Negativos falsos', 'Positivos falsos', 'Negativos verdadeiros'])"
   ]
  },
  {
   "cell_type": "markdown",
   "metadata": {
    "collapsed": true
   },
   "source": [
    "___\n",
    "## Concluindo\n",
    "\n",
    "Escreva aqui a sua conclusão.<br /> \n",
    "Faça um comparativo qualitativo sobre as medidas obtidas.<br />\n",
    "Explique como são tratadas as mensagens com dupla negação e sarcasmo.<br />\n",
    "Proponha um plano de expansão. Por que eles devem continuar financiando o seu projeto?<br />\n",
    "\n",
    "Opcionalmente: \n",
    "* Discorrer por que não posso alimentar minha base de Treinamento automaticamente usando o próprio classificador, aplicado a novos tweets.\n",
    "* Propor diferentes cenários de uso para o classificador Naive-Bayes. Cenários sem intersecção com este projeto.\n",
    "* Sugerir e explicar melhorias reais no classificador com indicações concretas de como implementar (não é preciso codificar, mas indicar como fazer e material de pesquisa sobre o assunto).\n"
   ]
  },
  {
   "cell_type": "markdown",
   "metadata": {
    "collapsed": true
   },
   "source": [
    "##### Decidimos escolher a loja de roupas Renner, pois é uma loja famosa e bem assecível para a população brasileira. Pode-se concluir que não obtivemos um resultado tão bom quanto esperávamos, pois nosso classificador apenas obteve sucesso em 53,5% dos casos, sendo esses, 37% de \"Positivos Verdadeiros\"(relevantes tanto pra nós quanto para o programa) e 16.5% de \"Negativos verdadeiros\"(irrelevante para nós e para o programa), ou seja, nosso classificador não obteve muito êxito classificando tweets \"Positivos\", pois os \"Positivos Falsos\"(Relevante para o programa e não para nós) representaram 45% .\n",
    "\n",
    "##### Em relação aos tweets sarcásticos e com dupla negação, nosso classificador, por ser baseado no teorema de Naive Bayes, não é capaz de reconhecer sarcasmo, uma vez que esse teorema é muito simples e trabalha apenas calculando probabilidade de palavras, e não de frases, e geralmente o sarcasmo só pode ser identificado ao se ler a frase toda.   \n",
    "\n",
    "##### Um plano de expansão possível seria filtrar mais comentários manualmente, para \"ensinar\" melhor o classificador, pois mesmo com 300 tweets de treinamento, muitas palavras se repetiram, tanto nos comentários relevantes quanto os irrelevantes. Também podemos separar por \"tipos de roupa\" e \"preço\" os comentários, pois diversos cometários falam mal do preço e diversos falam bem da roupa, logo, se separamos os dois, o classificador será mais preciso. Também podemos remover os comentários que são \"rt\" (retweets), pois os rt's aumentam a probabilidade das palavras que estão nele de serem relevantes ou irrelevantes, uma vez que são comentários exatemente iguais e repetidos. Eles devem continuar financiando nosso projeto pois este projeto, pode dar dicas de como eles podem atrair mais clientes (reajustando o preço de algud produtos, ou produzindo mais peças que estão em falta).  "
   ]
  }
 ],
 "metadata": {
  "kernelspec": {
   "display_name": "Python 3",
   "language": "python",
   "name": "python3"
  },
  "language_info": {
   "codemirror_mode": {
    "name": "ipython",
    "version": 3
   },
   "file_extension": ".py",
   "mimetype": "text/x-python",
   "name": "python",
   "nbconvert_exporter": "python",
   "pygments_lexer": "ipython3",
   "version": "3.6.0"
  }
 },
 "nbformat": 4,
 "nbformat_minor": 1
}
